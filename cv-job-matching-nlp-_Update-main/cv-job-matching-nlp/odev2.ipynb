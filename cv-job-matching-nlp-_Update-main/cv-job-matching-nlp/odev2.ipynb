{
 "cells": [
  {
   "cell_type": "code",
   "execution_count": 1,
   "id": "de859754-dd23-4aad-81a6-0eb42aadd853",
   "metadata": {},
   "outputs": [],
   "source": [
    "import os\n",
    "import pandas as pd\n",
    "import numpy as np\n",
    "from sklearn.metrics.pairwise import cosine_similarity\n",
    "from sklearn.feature_extraction.text import TfidfVectorizer\n",
    "from gensim.models import Word2Vec\n",
    "from tqdm import tqdm"
   ]
  },
  {
   "cell_type": "code",
   "execution_count": 3,
   "id": "a0d98ff4-4787-4c4e-9361-5f7341735def",
   "metadata": {},
   "outputs": [],
   "source": [
    "# === 1. TF-IDF (Stemmed) Benzerliği ===\n",
    "tfidf_df = pd.read_csv(\"outputs/tfidf_stemmed_cv.csv\")\n",
    "input_vector = tfidf_df.iloc[3].values.reshape(1, -1)\n",
    "similarities = cosine_similarity(input_vector, tfidf_df.values)[0]\n",
    "top_5_indices = np.argsort(similarities)[::-1][1:6]"
   ]
  },
  {
   "cell_type": "code",
   "execution_count": 5,
   "id": "c6b0e968-349e-4c00-8967-ce2800386101",
   "metadata": {},
   "outputs": [
    {
     "name": "stdout",
     "output_type": "stream",
     "text": [
      "=== TF-IDF (Stemmed) Benzer Sonuçlar ===\n",
      "\n",
      "CV #2245 - Skor: 1.0000\n",
      "İlgili alandaki tecrübelerim ve becerilerim doğrultusunda katkı sağlayabileceğime inanıyorum.\n",
      "\n",
      "CV #591 - Skor: 1.0000\n",
      "İlgili alandaki tecrübelerim ve becerilerim doğrultusunda katkı sağlayabileceğime inanıyorum.\n",
      "\n",
      "CV #3122 - Skor: 1.0000\n",
      "İlgili alandaki tecrübelerim ve becerilerim doğrultusunda katkı sağlayabileceğime inanıyorum.\n",
      "\n",
      "CV #3662 - Skor: 1.0000\n",
      "İlgili alandaki tecrübelerim ve becerilerim doğrultusunda katkı sağlayabileceğime inanıyorum.\n",
      "\n",
      "CV #596 - Skor: 1.0000\n",
      "İlgili alandaki tecrübelerim ve becerilerim doğrultusunda katkı sağlayabileceğime inanıyorum.\n"
     ]
    }
   ],
   "source": [
    "cv_data = pd.read_csv(\"data/cv_dataset.csv\")\n",
    "print(\"=== TF-IDF (Stemmed) Benzer Sonuçlar ===\")\n",
    "for idx in top_5_indices:\n",
    "    print(f\"\\nCV #{idx} - Skor: {similarities[idx]:.4f}\")\n",
    "    print(cv_data.iloc[idx][\"on_yazi\"])"
   ]
  },
  {
   "cell_type": "code",
   "execution_count": 7,
   "id": "1596b8af-c665-40d4-8d5f-c960948711d6",
   "metadata": {},
   "outputs": [],
   "source": [
    "# === 2. TF-IDF (Lemmatized) Benzerliği ===\n",
    "lemmatized_df = pd.read_csv(\"data/cv_lemmatized.csv\")\n",
    "vectorizer = TfidfVectorizer()\n",
    "tfidf_matrix = vectorizer.fit_transform(lemmatized_df[\"on_yazi\"].fillna(\"\"))\n",
    "tfidf_lemmatized_df = pd.DataFrame(tfidf_matrix.toarray(), columns=vectorizer.get_feature_names_out())\n",
    "tfidf_lemmatized_df.to_csv(\"outputs/tfidf_lemmatized_cv.csv\", index=False)"
   ]
  },
  {
   "cell_type": "code",
   "execution_count": 9,
   "id": "3f676dfb-53bf-483c-893c-4f35ad8cb696",
   "metadata": {},
   "outputs": [],
   "source": [
    "input_vector = tfidf_lemmatized_df.iloc[3].values.reshape(1, -1)\n",
    "similarities = cosine_similarity(input_vector, tfidf_lemmatized_df.values)[0]\n",
    "top_5_indices = np.argsort(similarities)[::-1][1:6]"
   ]
  },
  {
   "cell_type": "code",
   "execution_count": 11,
   "id": "96772738-ee56-4093-a165-61d745a5d305",
   "metadata": {},
   "outputs": [
    {
     "name": "stdout",
     "output_type": "stream",
     "text": [
      "=== TF-IDF (Lemmatized) Benzer Sonuçlar ===\n",
      "\n",
      "CV #1853 - Skor: 1.0000\n",
      "i̇lgili alandaki tecrübelerim becerilerim doğrultusunda katkı sağlayabileceğime inanıyorum\n",
      "\n",
      "CV #3654 - Skor: 1.0000\n",
      "i̇lgili alandaki tecrübelerim becerilerim doğrultusunda katkı sağlayabileceğime inanıyorum\n",
      "\n",
      "CV #3655 - Skor: 1.0000\n",
      "i̇lgili alandaki tecrübelerim becerilerim doğrultusunda katkı sağlayabileceğime inanıyorum\n",
      "\n",
      "CV #1529 - Skor: 1.0000\n",
      "i̇lgili alandaki tecrübelerim becerilerim doğrultusunda katkı sağlayabileceğime inanıyorum\n",
      "\n",
      "CV #4255 - Skor: 1.0000\n",
      "i̇lgili alandaki tecrübelerim becerilerim doğrultusunda katkı sağlayabileceğime inanıyorum\n"
     ]
    }
   ],
   "source": [
    "print(\"=== TF-IDF (Lemmatized) Benzer Sonuçlar ===\")\n",
    "for idx in top_5_indices:\n",
    "    print(f\"\\nCV #{idx} - Skor: {similarities[idx]:.4f}\")\n",
    "    print(lemmatized_df.iloc[idx][\"on_yazi\"])"
   ]
  },
  {
   "cell_type": "code",
   "execution_count": 13,
   "id": "beeb8dbd-31ec-4fe7-8eae-f6963456a41b",
   "metadata": {},
   "outputs": [],
   "source": [
    "# === 3. Word2Vec Benzerliği Hesaplama ===\n",
    "df = pd.read_csv(\"data/cv_lemmatized.csv\")\n",
    "input_text = df.iloc[3][\"on_yazi\"]\n",
    "input_tokens = input_text.split()"
   ]
  },
  {
   "cell_type": "code",
   "execution_count": 15,
   "id": "a7209395-7b27-4527-ba15-cfeae1f944d6",
   "metadata": {},
   "outputs": [],
   "source": [
    "def average_vector(words, model):\n",
    "    vectors = [model.wv[word] for word in words if word in model.wv]\n",
    "    if len(vectors) == 0:\n",
    "        return np.zeros(model.vector_size)\n",
    "    return np.mean(vectors, axis=0)"
   ]
  },
  {
   "cell_type": "code",
   "execution_count": 17,
   "id": "833a7159-069a-4889-99b8-8b98e5c1d961",
   "metadata": {},
   "outputs": [],
   "source": [
    "model_dir = \"models\"\n",
    "model_files = [f for f in os.listdir(model_dir) if f.endswith(\".model\") and f.startswith(\"cv_\")]\n",
    "similarity_results = {}"
   ]
  },
  {
   "cell_type": "code",
   "execution_count": 21,
   "id": "7ae38d0f-1866-482b-9d1e-80886d1c0cf4",
   "metadata": {},
   "outputs": [
    {
     "name": "stderr",
     "output_type": "stream",
     "text": [
      "100%|██████████| 16/16 [00:02<00:00,  6.45it/s]\n"
     ]
    }
   ],
   "source": [
    "for model_file in tqdm(model_files):\n",
    "    model_path = os.path.join(model_dir, model_file)\n",
    "    model_name = model_file.replace(\".model\", \"\")\n",
    "    try:\n",
    "        model = Word2Vec.load(model_path)\n",
    "        input_vec = average_vector(input_tokens, model).reshape(1, -1)\n",
    "        all_vectors = [average_vector(text.split(), model) for text in df[\"on_yazi\"].fillna(\"\")]\n",
    "        similarities = cosine_similarity(input_vec, all_vectors)[0]\n",
    "        top_indices = np.argsort(similarities)[::-1][1:6]\n",
    "        similarity_results[model_name] = {\n",
    "            \"indices\": top_indices.tolist(),\n",
    "            \"scores\": similarities[top_indices].tolist()\n",
    "        }\n",
    "    except Exception as e:\n",
    "        print(f\"Hata oluştu: {model_file} — {e}\")"
   ]
  },
  {
   "cell_type": "code",
   "execution_count": 23,
   "id": "8e52d237-b9a9-4ca0-b886-96d8f90a6ed5",
   "metadata": {},
   "outputs": [],
   "source": [
    "cv_df = pd.read_csv(\"data/cv_lemmatized.csv\")\n",
    "model_names = list(similarity_results.keys())[:3]"
   ]
  },
  {
   "cell_type": "code",
   "execution_count": 25,
   "id": "350ee430-b47b-4f66-ac97-b57cd2846327",
   "metadata": {},
   "outputs": [],
   "source": [
    "evaluation_data = []\n",
    "for model_name in model_names:\n",
    "    indices = similarity_results[model_name][\"indices\"]\n",
    "    scores = similarity_results[model_name][\"scores\"]\n",
    "    for rank, (idx, score) in enumerate(zip(indices, scores), 1):\n",
    "        evaluation_data.append({\n",
    "            \"Model\": model_name,\n",
    "            \"Sıra\": rank,\n",
    "            \"CV_Index\": idx,\n",
    "            \"Benzerlik_Skoru\": round(score, 4),\n",
    "            \"On_Yazı\": cv_df.iloc[idx][\"on_yazi\"]\n",
    "        })\n",
    "\n",
    "evaluation_df = pd.DataFrame(evaluation_data)"
   ]
  },
  {
   "cell_type": "code",
   "execution_count": 27,
   "id": "0afefb42-12bd-4a29-9c13-6b2f7a353da1",
   "metadata": {},
   "outputs": [],
   "source": [
    "# === 4. Jaccard Benzerlik Matrisi ===\n",
    "def jaccard_similarity(set1, set2):\n",
    "    intersection = len(set(set1).intersection(set2))\n",
    "    union = len(set(set1).union(set2))\n",
    "    return intersection / union if union > 0 else 0"
   ]
  },
  {
   "cell_type": "code",
   "execution_count": 29,
   "id": "84eb7559-ec44-4d72-ad3c-ba4d08a1475f",
   "metadata": {},
   "outputs": [],
   "source": [
    "model_names = list(similarity_results.keys())\n",
    "jaccard_matrix = np.zeros((len(model_names), len(model_names)))\n",
    "\n",
    "for i, model_a in enumerate(model_names):\n",
    "    for j, model_b in enumerate(model_names):\n",
    "        indices_a = set(similarity_results[model_a][\"indices\"])\n",
    "        indices_b = set(similarity_results[model_b][\"indices\"])\n",
    "        jaccard_matrix[i, j] = jaccard_similarity(indices_a, indices_b)\n",
    "\n",
    "jaccard_df = pd.DataFrame(jaccard_matrix, index=model_names, columns=model_names)"
   ]
  },
  {
   "cell_type": "code",
   "execution_count": 31,
   "id": "3f4e9170-0c50-4bc0-9a59-972e3270959e",
   "metadata": {},
   "outputs": [],
   "source": [
    "# === 5. Anlamsal Skor ===\n",
    "evaluation_df[\"Anlamsal_Skor\"] = [4, 4, 3, 5, 4,\n",
    "                                  2, 3, 2, 3, 1,\n",
    "                                  3, 3, 4, 4, 3]  "
   ]
  },
  {
   "cell_type": "code",
   "execution_count": 33,
   "id": "98a77175-d229-412c-a50d-c86721bcf43d",
   "metadata": {},
   "outputs": [],
   "source": [
    "# === 6. Ortalama Anlamsal Skor ===\n",
    "ortalama_df = (\n",
    "    evaluation_df\n",
    "    .groupby(\"Model\")[\"Anlamsal_Skor\"]\n",
    "    .mean()\n",
    "    .reset_index()\n",
    "    .rename(columns={\"Anlamsal_Skor\": \"Ortalama_Anlamsal_Skor\"})\n",
    "    .sort_values(by=\"Ortalama_Anlamsal_Skor\", ascending=False)\n",
    ")"
   ]
  },
  {
   "cell_type": "code",
   "execution_count": 49,
   "id": "7fe7ec67-fc42-4b9a-ad3b-86807d0b76c7",
   "metadata": {},
   "outputs": [
    {
     "name": "stdout",
     "output_type": "stream",
     "text": [
      "Anlamsal Değerlendirme Tablosu\n",
      "                                     Model  Ortalama_Anlamsal_Skor\n",
      "0  cv_lemmatized_model_cbow_window2_dim100                     4.0\n",
      "2  cv_lemmatized_model_cbow_window4_dim100                     3.4\n",
      "1  cv_lemmatized_model_cbow_window2_dim300                     2.2\n"
     ]
    }
   ],
   "source": [
    "# Ortalama değerlendirme tablosunu görselleştir\n",
    "print(\"Anlamsal Değerlendirme Tablosu\")\n",
    "print(ortalama_df)"
   ]
  },
  {
   "cell_type": "code",
   "execution_count": 51,
   "id": "94fd5eb5-07e9-468c-b54d-067e4827894d",
   "metadata": {},
   "outputs": [
    {
     "name": "stdout",
     "output_type": "stream",
     "text": [
      "+----+-----------------------------------------+--------------------------+\n",
      "|    | Model                                   |   Ortalama_Anlamsal_Skor |\n",
      "+====+=========================================+==========================+\n",
      "|  0 | cv_lemmatized_model_cbow_window2_dim100 |                      4   |\n",
      "+----+-----------------------------------------+--------------------------+\n",
      "|  2 | cv_lemmatized_model_cbow_window4_dim100 |                      3.4 |\n",
      "+----+-----------------------------------------+--------------------------+\n",
      "|  1 | cv_lemmatized_model_cbow_window2_dim300 |                      2.2 |\n",
      "+----+-----------------------------------------+--------------------------+\n"
     ]
    }
   ],
   "source": [
    "from tabulate import tabulate\n",
    "print(tabulate(ortalama_df, headers='keys', tablefmt='grid'))"
   ]
  },
  {
   "cell_type": "code",
   "execution_count": 55,
   "id": "fbc0d704-bf02-4386-bbae-741eafe91873",
   "metadata": {},
   "outputs": [
    {
     "data": {
      "text/html": [
       "<h3>🔍 Anlamsal Değerlendirme Ortalamaları</h3>"
      ],
      "text/plain": [
       "<IPython.core.display.HTML object>"
      ]
     },
     "metadata": {},
     "output_type": "display_data"
    },
    {
     "data": {
      "text/html": [
       "<style type=\"text/css\">\n",
       "#T_ea932_row0_col1 {\n",
       "  background-color: #08306b;\n",
       "  color: #f1f1f1;\n",
       "}\n",
       "#T_ea932_row1_col1 {\n",
       "  background-color: #3787c0;\n",
       "  color: #f1f1f1;\n",
       "}\n",
       "#T_ea932_row2_col1 {\n",
       "  background-color: #f7fbff;\n",
       "  color: #000000;\n",
       "}\n",
       "</style>\n",
       "<table id=\"T_ea932\">\n",
       "  <caption>Model Başına Ortalama Anlamsal Skor</caption>\n",
       "  <thead>\n",
       "    <tr>\n",
       "      <th class=\"blank level0\" >&nbsp;</th>\n",
       "      <th id=\"T_ea932_level0_col0\" class=\"col_heading level0 col0\" >Model</th>\n",
       "      <th id=\"T_ea932_level0_col1\" class=\"col_heading level0 col1\" >Ortalama_Anlamsal_Skor</th>\n",
       "    </tr>\n",
       "  </thead>\n",
       "  <tbody>\n",
       "    <tr>\n",
       "      <th id=\"T_ea932_level0_row0\" class=\"row_heading level0 row0\" >0</th>\n",
       "      <td id=\"T_ea932_row0_col0\" class=\"data row0 col0\" >cv_lemmatized_model_cbow_window2_dim100</td>\n",
       "      <td id=\"T_ea932_row0_col1\" class=\"data row0 col1\" >4.000000</td>\n",
       "    </tr>\n",
       "    <tr>\n",
       "      <th id=\"T_ea932_level0_row1\" class=\"row_heading level0 row1\" >2</th>\n",
       "      <td id=\"T_ea932_row1_col0\" class=\"data row1 col0\" >cv_lemmatized_model_cbow_window4_dim100</td>\n",
       "      <td id=\"T_ea932_row1_col1\" class=\"data row1 col1\" >3.400000</td>\n",
       "    </tr>\n",
       "    <tr>\n",
       "      <th id=\"T_ea932_level0_row2\" class=\"row_heading level0 row2\" >1</th>\n",
       "      <td id=\"T_ea932_row2_col0\" class=\"data row2 col0\" >cv_lemmatized_model_cbow_window2_dim300</td>\n",
       "      <td id=\"T_ea932_row2_col1\" class=\"data row2 col1\" >2.200000</td>\n",
       "    </tr>\n",
       "  </tbody>\n",
       "</table>\n"
      ],
      "text/plain": [
       "<pandas.io.formats.style.Styler at 0x14c179f6ab0>"
      ]
     },
     "metadata": {},
     "output_type": "display_data"
    }
   ],
   "source": [
    "# Anlamsal değerlendirme tablosunu görsel olarak göster\n",
    "from IPython.display import display, HTML\n",
    "\n",
    "# Ortalama skorları göster\n",
    "ortalama_df = (\n",
    "    evaluation_df\n",
    "    .groupby(\"Model\")[\"Anlamsal_Skor\"]\n",
    "    .mean()\n",
    "    .reset_index()\n",
    "    .rename(columns={\"Anlamsal_Skor\": \"Ortalama_Anlamsal_Skor\"})\n",
    "    .sort_values(by=\"Ortalama_Anlamsal_Skor\", ascending=False)\n",
    ")\n",
    "\n",
    "# Tabloyu görselleştir\n",
    "display(HTML(\"<h3>🔍 Anlamsal Değerlendirme Ortalamaları</h3>\"))\n",
    "display(ortalama_df.style.set_caption(\"Model Başına Ortalama Anlamsal Skor\").background_gradient(cmap='Blues'))\n"
   ]
  },
  {
   "cell_type": "code",
   "execution_count": 57,
   "id": "6ea8b671-84c4-4fd6-9708-673c3f7ab05d",
   "metadata": {},
   "outputs": [
    {
     "data": {
      "text/html": [
       "<h3>📋 Model Bazlı İlk 5 Sonuç ve Anlamsal Puanlar</h3>"
      ],
      "text/plain": [
       "<IPython.core.display.HTML object>"
      ]
     },
     "metadata": {},
     "output_type": "display_data"
    },
    {
     "data": {
      "text/html": [
       "<style type=\"text/css\">\n",
       "#T_6fdff_row0_col1, #T_6fdff_row0_col3, #T_6fdff_row1_col3, #T_6fdff_row2_col3, #T_6fdff_row3_col3, #T_6fdff_row4_col3, #T_6fdff_row5_col1, #T_6fdff_row5_col3, #T_6fdff_row6_col3, #T_6fdff_row7_col3, #T_6fdff_row8_col3, #T_6fdff_row9_col3, #T_6fdff_row9_col5, #T_6fdff_row10_col1, #T_6fdff_row10_col3, #T_6fdff_row11_col3, #T_6fdff_row12_col3, #T_6fdff_row13_col2, #T_6fdff_row13_col3, #T_6fdff_row14_col2, #T_6fdff_row14_col3 {\n",
       "  background-color: #ffffd9;\n",
       "  color: #000000;\n",
       "}\n",
       "#T_6fdff_row0_col2 {\n",
       "  background-color: #2258a5;\n",
       "  color: #f1f1f1;\n",
       "}\n",
       "#T_6fdff_row0_col5, #T_6fdff_row1_col5, #T_6fdff_row3_col1, #T_6fdff_row4_col5, #T_6fdff_row8_col1, #T_6fdff_row12_col5, #T_6fdff_row13_col1, #T_6fdff_row13_col5 {\n",
       "  background-color: #225da8;\n",
       "  color: #f1f1f1;\n",
       "}\n",
       "#T_6fdff_row1_col1, #T_6fdff_row5_col5, #T_6fdff_row6_col1, #T_6fdff_row7_col5, #T_6fdff_row11_col1 {\n",
       "  background-color: #c6e9b4;\n",
       "  color: #000000;\n",
       "}\n",
       "#T_6fdff_row1_col2, #T_6fdff_row2_col2, #T_6fdff_row4_col2 {\n",
       "  background-color: #2ca1c2;\n",
       "  color: #f1f1f1;\n",
       "}\n",
       "#T_6fdff_row2_col1, #T_6fdff_row2_col5, #T_6fdff_row6_col5, #T_6fdff_row7_col1, #T_6fdff_row8_col5, #T_6fdff_row10_col5, #T_6fdff_row11_col5, #T_6fdff_row12_col1, #T_6fdff_row14_col5 {\n",
       "  background-color: #40b5c4;\n",
       "  color: #f1f1f1;\n",
       "}\n",
       "#T_6fdff_row3_col2 {\n",
       "  background-color: #233390;\n",
       "  color: #f1f1f1;\n",
       "}\n",
       "#T_6fdff_row3_col5, #T_6fdff_row4_col1, #T_6fdff_row9_col1, #T_6fdff_row10_col2, #T_6fdff_row14_col1 {\n",
       "  background-color: #081d58;\n",
       "  color: #f1f1f1;\n",
       "}\n",
       "#T_6fdff_row5_col2 {\n",
       "  background-color: #1d8ebf;\n",
       "  color: #f1f1f1;\n",
       "}\n",
       "#T_6fdff_row6_col2, #T_6fdff_row7_col2 {\n",
       "  background-color: #102369;\n",
       "  color: #f1f1f1;\n",
       "}\n",
       "#T_6fdff_row8_col2 {\n",
       "  background-color: #1d91c0;\n",
       "  color: #f1f1f1;\n",
       "}\n",
       "#T_6fdff_row9_col2 {\n",
       "  background-color: #f9fdcc;\n",
       "  color: #000000;\n",
       "}\n",
       "#T_6fdff_row11_col2 {\n",
       "  background-color: #4cbac2;\n",
       "  color: #f1f1f1;\n",
       "}\n",
       "#T_6fdff_row12_col2 {\n",
       "  background-color: #2166ac;\n",
       "  color: #f1f1f1;\n",
       "}\n",
       "</style>\n",
       "<table id=\"T_6fdff\">\n",
       "  <caption>Her Model İçin İlk 5 Benzer CV ve Puanları</caption>\n",
       "  <thead>\n",
       "    <tr>\n",
       "      <th class=\"blank level0\" >&nbsp;</th>\n",
       "      <th id=\"T_6fdff_level0_col0\" class=\"col_heading level0 col0\" >Model</th>\n",
       "      <th id=\"T_6fdff_level0_col1\" class=\"col_heading level0 col1\" >Sıra</th>\n",
       "      <th id=\"T_6fdff_level0_col2\" class=\"col_heading level0 col2\" >CV_Index</th>\n",
       "      <th id=\"T_6fdff_level0_col3\" class=\"col_heading level0 col3\" >Benzerlik_Skoru</th>\n",
       "      <th id=\"T_6fdff_level0_col4\" class=\"col_heading level0 col4\" >On_Yazı</th>\n",
       "      <th id=\"T_6fdff_level0_col5\" class=\"col_heading level0 col5\" >Anlamsal_Skor</th>\n",
       "    </tr>\n",
       "  </thead>\n",
       "  <tbody>\n",
       "    <tr>\n",
       "      <th id=\"T_6fdff_level0_row0\" class=\"row_heading level0 row0\" >0</th>\n",
       "      <td id=\"T_6fdff_row0_col0\" class=\"data row0 col0\" >cv_lemmatized_model_cbow_window2_dim100</td>\n",
       "      <td id=\"T_6fdff_row0_col1\" class=\"data row0 col1\" >1</td>\n",
       "      <td id=\"T_6fdff_row0_col2\" class=\"data row0 col2\" >3393</td>\n",
       "      <td id=\"T_6fdff_row0_col3\" class=\"data row0 col3\" >1.000000</td>\n",
       "      <td id=\"T_6fdff_row0_col4\" class=\"data row0 col4\" >i̇lgili alandaki tecrübelerim becerilerim doğrultusunda katkı sağlayabileceğime inanıyorum</td>\n",
       "      <td id=\"T_6fdff_row0_col5\" class=\"data row0 col5\" >4</td>\n",
       "    </tr>\n",
       "    <tr>\n",
       "      <th id=\"T_6fdff_level0_row1\" class=\"row_heading level0 row1\" >1</th>\n",
       "      <td id=\"T_6fdff_row1_col0\" class=\"data row1 col0\" >cv_lemmatized_model_cbow_window2_dim100</td>\n",
       "      <td id=\"T_6fdff_row1_col1\" class=\"data row1 col1\" >2</td>\n",
       "      <td id=\"T_6fdff_row1_col2\" class=\"data row1 col2\" >2560</td>\n",
       "      <td id=\"T_6fdff_row1_col3\" class=\"data row1 col3\" >1.000000</td>\n",
       "      <td id=\"T_6fdff_row1_col4\" class=\"data row1 col4\" >i̇lgili alandaki tecrübelerim becerilerim doğrultusunda katkı sağlayabileceğime inanıyorum</td>\n",
       "      <td id=\"T_6fdff_row1_col5\" class=\"data row1 col5\" >4</td>\n",
       "    </tr>\n",
       "    <tr>\n",
       "      <th id=\"T_6fdff_level0_row2\" class=\"row_heading level0 row2\" >2</th>\n",
       "      <td id=\"T_6fdff_row2_col0\" class=\"data row2 col0\" >cv_lemmatized_model_cbow_window2_dim100</td>\n",
       "      <td id=\"T_6fdff_row2_col1\" class=\"data row2 col1\" >3</td>\n",
       "      <td id=\"T_6fdff_row2_col2\" class=\"data row2 col2\" >2561</td>\n",
       "      <td id=\"T_6fdff_row2_col3\" class=\"data row2 col3\" >1.000000</td>\n",
       "      <td id=\"T_6fdff_row2_col4\" class=\"data row2 col4\" >i̇lgili alandaki tecrübelerim becerilerim doğrultusunda katkı sağlayabileceğime inanıyorum</td>\n",
       "      <td id=\"T_6fdff_row2_col5\" class=\"data row2 col5\" >3</td>\n",
       "    </tr>\n",
       "    <tr>\n",
       "      <th id=\"T_6fdff_level0_row3\" class=\"row_heading level0 row3\" >3</th>\n",
       "      <td id=\"T_6fdff_row3_col0\" class=\"data row3 col0\" >cv_lemmatized_model_cbow_window2_dim100</td>\n",
       "      <td id=\"T_6fdff_row3_col1\" class=\"data row3 col1\" >4</td>\n",
       "      <td id=\"T_6fdff_row3_col2\" class=\"data row3 col2\" >3882</td>\n",
       "      <td id=\"T_6fdff_row3_col3\" class=\"data row3 col3\" >1.000000</td>\n",
       "      <td id=\"T_6fdff_row3_col4\" class=\"data row3 col4\" >i̇lgili alandaki tecrübelerim becerilerim doğrultusunda katkı sağlayabileceğime inanıyorum</td>\n",
       "      <td id=\"T_6fdff_row3_col5\" class=\"data row3 col5\" >5</td>\n",
       "    </tr>\n",
       "    <tr>\n",
       "      <th id=\"T_6fdff_level0_row4\" class=\"row_heading level0 row4\" >4</th>\n",
       "      <td id=\"T_6fdff_row4_col0\" class=\"data row4 col0\" >cv_lemmatized_model_cbow_window2_dim100</td>\n",
       "      <td id=\"T_6fdff_row4_col1\" class=\"data row4 col1\" >5</td>\n",
       "      <td id=\"T_6fdff_row4_col2\" class=\"data row4 col2\" >2566</td>\n",
       "      <td id=\"T_6fdff_row4_col3\" class=\"data row4 col3\" >1.000000</td>\n",
       "      <td id=\"T_6fdff_row4_col4\" class=\"data row4 col4\" >i̇lgili alandaki tecrübelerim becerilerim doğrultusunda katkı sağlayabileceğime inanıyorum</td>\n",
       "      <td id=\"T_6fdff_row4_col5\" class=\"data row4 col5\" >4</td>\n",
       "    </tr>\n",
       "    <tr>\n",
       "      <th id=\"T_6fdff_level0_row5\" class=\"row_heading level0 row5\" >5</th>\n",
       "      <td id=\"T_6fdff_row5_col0\" class=\"data row5 col0\" >cv_lemmatized_model_cbow_window2_dim300</td>\n",
       "      <td id=\"T_6fdff_row5_col1\" class=\"data row5 col1\" >1</td>\n",
       "      <td id=\"T_6fdff_row5_col2\" class=\"data row5 col2\" >2814</td>\n",
       "      <td id=\"T_6fdff_row5_col3\" class=\"data row5 col3\" >1.000000</td>\n",
       "      <td id=\"T_6fdff_row5_col4\" class=\"data row5 col4\" >i̇lgili alandaki tecrübelerim becerilerim doğrultusunda katkı sağlayabileceğime inanıyorum</td>\n",
       "      <td id=\"T_6fdff_row5_col5\" class=\"data row5 col5\" >2</td>\n",
       "    </tr>\n",
       "    <tr>\n",
       "      <th id=\"T_6fdff_level0_row6\" class=\"row_heading level0 row6\" >6</th>\n",
       "      <td id=\"T_6fdff_row6_col0\" class=\"data row6 col0\" >cv_lemmatized_model_cbow_window2_dim300</td>\n",
       "      <td id=\"T_6fdff_row6_col1\" class=\"data row6 col1\" >2</td>\n",
       "      <td id=\"T_6fdff_row6_col2\" class=\"data row6 col2\" >4230</td>\n",
       "      <td id=\"T_6fdff_row6_col3\" class=\"data row6 col3\" >1.000000</td>\n",
       "      <td id=\"T_6fdff_row6_col4\" class=\"data row6 col4\" >i̇lgili alandaki tecrübelerim becerilerim doğrultusunda katkı sağlayabileceğime inanıyorum</td>\n",
       "      <td id=\"T_6fdff_row6_col5\" class=\"data row6 col5\" >3</td>\n",
       "    </tr>\n",
       "    <tr>\n",
       "      <th id=\"T_6fdff_level0_row7\" class=\"row_heading level0 row7\" >7</th>\n",
       "      <td id=\"T_6fdff_row7_col0\" class=\"data row7 col0\" >cv_lemmatized_model_cbow_window2_dim300</td>\n",
       "      <td id=\"T_6fdff_row7_col1\" class=\"data row7 col1\" >3</td>\n",
       "      <td id=\"T_6fdff_row7_col2\" class=\"data row7 col2\" >4229</td>\n",
       "      <td id=\"T_6fdff_row7_col3\" class=\"data row7 col3\" >1.000000</td>\n",
       "      <td id=\"T_6fdff_row7_col4\" class=\"data row7 col4\" >i̇lgili alandaki tecrübelerim becerilerim doğrultusunda katkı sağlayabileceğime inanıyorum</td>\n",
       "      <td id=\"T_6fdff_row7_col5\" class=\"data row7 col5\" >2</td>\n",
       "    </tr>\n",
       "    <tr>\n",
       "      <th id=\"T_6fdff_level0_row8\" class=\"row_heading level0 row8\" >8</th>\n",
       "      <td id=\"T_6fdff_row8_col0\" class=\"data row8 col0\" >cv_lemmatized_model_cbow_window2_dim300</td>\n",
       "      <td id=\"T_6fdff_row8_col1\" class=\"data row8 col1\" >4</td>\n",
       "      <td id=\"T_6fdff_row8_col2\" class=\"data row8 col2\" >2779</td>\n",
       "      <td id=\"T_6fdff_row8_col3\" class=\"data row8 col3\" >1.000000</td>\n",
       "      <td id=\"T_6fdff_row8_col4\" class=\"data row8 col4\" >i̇lgili alandaki tecrübelerim becerilerim doğrultusunda katkı sağlayabileceğime inanıyorum</td>\n",
       "      <td id=\"T_6fdff_row8_col5\" class=\"data row8 col5\" >3</td>\n",
       "    </tr>\n",
       "    <tr>\n",
       "      <th id=\"T_6fdff_level0_row9\" class=\"row_heading level0 row9\" >9</th>\n",
       "      <td id=\"T_6fdff_row9_col0\" class=\"data row9 col0\" >cv_lemmatized_model_cbow_window2_dim300</td>\n",
       "      <td id=\"T_6fdff_row9_col1\" class=\"data row9 col1\" >5</td>\n",
       "      <td id=\"T_6fdff_row9_col2\" class=\"data row9 col2\" >312</td>\n",
       "      <td id=\"T_6fdff_row9_col3\" class=\"data row9 col3\" >1.000000</td>\n",
       "      <td id=\"T_6fdff_row9_col4\" class=\"data row9 col4\" >i̇lgili alandaki tecrübelerim becerilerim doğrultusunda katkı sağlayabileceğime inanıyorum</td>\n",
       "      <td id=\"T_6fdff_row9_col5\" class=\"data row9 col5\" >1</td>\n",
       "    </tr>\n",
       "    <tr>\n",
       "      <th id=\"T_6fdff_level0_row10\" class=\"row_heading level0 row10\" >10</th>\n",
       "      <td id=\"T_6fdff_row10_col0\" class=\"data row10 col0\" >cv_lemmatized_model_cbow_window4_dim100</td>\n",
       "      <td id=\"T_6fdff_row10_col1\" class=\"data row10 col1\" >1</td>\n",
       "      <td id=\"T_6fdff_row10_col2\" class=\"data row10 col2\" >4389</td>\n",
       "      <td id=\"T_6fdff_row10_col3\" class=\"data row10 col3\" >1.000000</td>\n",
       "      <td id=\"T_6fdff_row10_col4\" class=\"data row10 col4\" >i̇lgili alandaki tecrübelerim becerilerim doğrultusunda katkı sağlayabileceğime inanıyorum</td>\n",
       "      <td id=\"T_6fdff_row10_col5\" class=\"data row10 col5\" >3</td>\n",
       "    </tr>\n",
       "    <tr>\n",
       "      <th id=\"T_6fdff_level0_row11\" class=\"row_heading level0 row11\" >11</th>\n",
       "      <td id=\"T_6fdff_row11_col0\" class=\"data row11 col0\" >cv_lemmatized_model_cbow_window4_dim100</td>\n",
       "      <td id=\"T_6fdff_row11_col1\" class=\"data row11 col1\" >2</td>\n",
       "      <td id=\"T_6fdff_row11_col2\" class=\"data row11 col2\" >2172</td>\n",
       "      <td id=\"T_6fdff_row11_col3\" class=\"data row11 col3\" >1.000000</td>\n",
       "      <td id=\"T_6fdff_row11_col4\" class=\"data row11 col4\" >i̇lgili alandaki tecrübelerim becerilerim doğrultusunda katkı sağlayabileceğime inanıyorum</td>\n",
       "      <td id=\"T_6fdff_row11_col5\" class=\"data row11 col5\" >3</td>\n",
       "    </tr>\n",
       "    <tr>\n",
       "      <th id=\"T_6fdff_level0_row12\" class=\"row_heading level0 row12\" >12</th>\n",
       "      <td id=\"T_6fdff_row12_col0\" class=\"data row12 col0\" >cv_lemmatized_model_cbow_window4_dim100</td>\n",
       "      <td id=\"T_6fdff_row12_col1\" class=\"data row12 col1\" >3</td>\n",
       "      <td id=\"T_6fdff_row12_col2\" class=\"data row12 col2\" >3239</td>\n",
       "      <td id=\"T_6fdff_row12_col3\" class=\"data row12 col3\" >1.000000</td>\n",
       "      <td id=\"T_6fdff_row12_col4\" class=\"data row12 col4\" >i̇lgili alandaki tecrübelerim becerilerim doğrultusunda katkı sağlayabileceğime inanıyorum</td>\n",
       "      <td id=\"T_6fdff_row12_col5\" class=\"data row12 col5\" >4</td>\n",
       "    </tr>\n",
       "    <tr>\n",
       "      <th id=\"T_6fdff_level0_row13\" class=\"row_heading level0 row13\" >13</th>\n",
       "      <td id=\"T_6fdff_row13_col0\" class=\"data row13 col0\" >cv_lemmatized_model_cbow_window4_dim100</td>\n",
       "      <td id=\"T_6fdff_row13_col1\" class=\"data row13 col1\" >4</td>\n",
       "      <td id=\"T_6fdff_row13_col2\" class=\"data row13 col2\" >134</td>\n",
       "      <td id=\"T_6fdff_row13_col3\" class=\"data row13 col3\" >1.000000</td>\n",
       "      <td id=\"T_6fdff_row13_col4\" class=\"data row13 col4\" >i̇lgili alandaki tecrübelerim becerilerim doğrultusunda katkı sağlayabileceğime inanıyorum</td>\n",
       "      <td id=\"T_6fdff_row13_col5\" class=\"data row13 col5\" >4</td>\n",
       "    </tr>\n",
       "    <tr>\n",
       "      <th id=\"T_6fdff_level0_row14\" class=\"row_heading level0 row14\" >14</th>\n",
       "      <td id=\"T_6fdff_row14_col0\" class=\"data row14 col0\" >cv_lemmatized_model_cbow_window4_dim100</td>\n",
       "      <td id=\"T_6fdff_row14_col1\" class=\"data row14 col1\" >5</td>\n",
       "      <td id=\"T_6fdff_row14_col2\" class=\"data row14 col2\" >132</td>\n",
       "      <td id=\"T_6fdff_row14_col3\" class=\"data row14 col3\" >1.000000</td>\n",
       "      <td id=\"T_6fdff_row14_col4\" class=\"data row14 col4\" >i̇lgili alandaki tecrübelerim becerilerim doğrultusunda katkı sağlayabileceğime inanıyorum</td>\n",
       "      <td id=\"T_6fdff_row14_col5\" class=\"data row14 col5\" >3</td>\n",
       "    </tr>\n",
       "  </tbody>\n",
       "</table>\n"
      ],
      "text/plain": [
       "<pandas.io.formats.style.Styler at 0x14c179f9ac0>"
      ]
     },
     "metadata": {},
     "output_type": "display_data"
    }
   ],
   "source": [
    "pd.set_option('display.max_colwidth', None)\n",
    "pd.set_option('display.max_rows', 100)\n",
    "\n",
    "# Tüm tabloyu stil ile göster\n",
    "display(HTML(\"<h3>📋 Model Bazlı İlk 5 Sonuç ve Anlamsal Puanlar</h3>\"))\n",
    "display(evaluation_df.style.set_caption(\"Her Model İçin İlk 5 Benzer CV ve Puanları\").background_gradient(cmap='YlGnBu'))\n"
   ]
  },
  {
   "cell_type": "code",
   "execution_count": null,
   "id": "9dc997f6-8b21-4527-ba43-7e77c2b5d80a",
   "metadata": {},
   "outputs": [],
   "source": []
  }
 ],
 "metadata": {
  "kernelspec": {
   "display_name": "Python [conda env:base] *",
   "language": "python",
   "name": "conda-base-py"
  },
  "language_info": {
   "codemirror_mode": {
    "name": "ipython",
    "version": 3
   },
   "file_extension": ".py",
   "mimetype": "text/x-python",
   "name": "python",
   "nbconvert_exporter": "python",
   "pygments_lexer": "ipython3",
   "version": "3.12.7"
  }
 },
 "nbformat": 4,
 "nbformat_minor": 5
}
